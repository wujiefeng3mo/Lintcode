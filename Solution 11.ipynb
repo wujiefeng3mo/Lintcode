{
 "cells": [
  {
   "cell_type": "code",
   "execution_count": 137,
   "metadata": {
    "collapsed": false
   },
   "outputs": [],
   "source": [
    "\"\"\"\n",
    "Definition of TreeNode:\n",
    "class TreeNode:\n",
    "    def __init__(self, val):\n",
    "        self.val = val\n",
    "        self.left, self.right = None, None\n",
    "\"\"\"\n",
    "class Solution:\n",
    "    \"\"\"\n",
    "    @param root: The root of the binary search tree.\n",
    "    @param k1 and k2: range k1 to k2.\n",
    "    @return: Return all keys that k1<=key<=k2 in ascending order.\n",
    "    \"\"\"     \n",
    "    \n",
    "    def searchRange(self, root, k1, k2):\n",
    "        result = []\n",
    "        def subsearch(root,k1,k2):\n",
    "            if(root == None):\n",
    "                return\n",
    "            subsearch(root.left,k1,k2)\n",
    "            if (k1<=root.val<=k2):\n",
    "                result.append(root.val)\n",
    "            subsearch(root.right,k1,k2)\n",
    "            #print result\n",
    "        subsearch(root,k1,k2)\n",
    "        return result\n",
    "class TreeNode:\n",
    "    def __init__(self,val):\n",
    "        self.val = val\n",
    "        self.left, self.right = None,None\n"
   ]
  },
  {
   "cell_type": "code",
   "execution_count": 133,
   "metadata": {
    "collapsed": false
   },
   "outputs": [],
   "source": [
    "root = TreeNode(20)\n",
    "root.left = TreeNode(8)\n",
    "root.right = TreeNode(22)\n",
    "root.left.left=TreeNode(4)\n",
    "root.left.right = TreeNode(12)"
   ]
  },
  {
   "cell_type": "code",
   "execution_count": 139,
   "metadata": {
    "collapsed": false
   },
   "outputs": [
    {
     "data": {
      "text/plain": [
       "[12, 20, 22]"
      ]
     },
     "execution_count": 139,
     "metadata": {},
     "output_type": "execute_result"
    }
   ],
   "source": [
    "Solution().searchRange(root, 10,22)"
   ]
  },
  {
   "cell_type": "code",
   "execution_count": 125,
   "metadata": {
    "collapsed": false
   },
   "outputs": [
    {
     "name": "stdout",
     "output_type": "stream",
     "text": [
      "[12, 20, 22]\n"
     ]
    }
   ],
   "source": [
    "result = []\n",
    "def subsearch(root,k1,k2):\n",
    "    if(root == None):\n",
    "        return\n",
    "    subsearch(root.left,k1,k2)\n",
    "    if (k1<=root.val<=k2):\n",
    "        result.append(root.val)\n",
    "    subsearch(root.right,k1,k2)\n",
    "subsearch(root,10,22)\n",
    "print result"
   ]
  }
 ],
 "metadata": {
  "kernelspec": {
   "display_name": "Python 2",
   "language": "python",
   "name": "python2"
  },
  "language_info": {
   "codemirror_mode": {
    "name": "ipython",
    "version": 2
   },
   "file_extension": ".py",
   "mimetype": "text/x-python",
   "name": "python",
   "nbconvert_exporter": "python",
   "pygments_lexer": "ipython2",
   "version": "2.7.12"
  }
 },
 "nbformat": 4,
 "nbformat_minor": 0
}
